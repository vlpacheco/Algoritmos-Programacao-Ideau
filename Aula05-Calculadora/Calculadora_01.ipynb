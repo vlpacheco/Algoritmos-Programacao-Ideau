{
  "nbformat": 4,
  "nbformat_minor": 0,
  "metadata": {
    "colab": {
      "name": "Calculadora_01.ipynb",
      "provenance": [],
      "collapsed_sections": []
    },
    "kernelspec": {
      "name": "python3",
      "display_name": "Python 3"
    },
    "language_info": {
      "name": "python"
    }
  },
  "cells": [
    {
      "cell_type": "markdown",
      "metadata": {
        "id": "VsQcnIKQcOKu"
      },
      "source": [
        "________________________________________________________________________________\n",
        "CALCULADORA\n",
        "________________________________________________________________________________"
      ]
    },
    {
      "cell_type": "markdown",
      "metadata": {
        "id": "QdztSsV-cWlH"
      },
      "source": [
        "ATIVIDADE: Desenvolver uma calculadora em Python capaz de realizar as 4 operacoes básicas da matematica: adicao, subtracao, multiplicacao e divisao.\n",
        "\n",
        "O usuario deverá informar o cálculo com DOIS parâmetros e a operacao matematica a ser realizada.\n",
        "\n",
        "Ainda, deverá ser implementada a opcao de \"sair\" da calculadora."
      ]
    },
    {
      "cell_type": "markdown",
      "metadata": {
        "id": "GBqUtESOcu9n"
      },
      "source": [
        "# 1. PASSO\n",
        "\n",
        "As calculadoras funcionam melhor quando uma pessoa fornece equações para o computador resolver. Começaremos a escrever nosso programa no ponto em que a pessoa digita os números com os quais gostaria que o computador trabalhasse.\n",
        "\n",
        "Para fazer isto, utilizaremos a função interna do Python input() que aceita entrada gerada pelo usuário através do teclado. Dentro dos parênteses da função input() podemos passar uma string para solicitar ao usuário. Vamos atribuir a entrada do usuário a uma variável."
      ]
    },
    {
      "cell_type": "code",
      "metadata": {
        "colab": {
          "base_uri": "https://localhost:8080/"
        },
        "id": "cx9grLmQbq7U",
        "outputId": "c534f300-5ae1-4d18-9d15-518c7c97f975"
      },
      "source": [
        "numero_1 = int(input('Digite o primeiro numero: '))\n",
        "numero_2 = int(input('Digite o segundo numero: '))"
      ],
      "execution_count": null,
      "outputs": [
        {
          "output_type": "stream",
          "text": [
            "Digite o primeiro numero: 1\n",
            "Digite o segundo numero: 2\n"
          ],
          "name": "stdout"
        }
      ]
    },
    {
      "cell_type": "markdown",
      "metadata": {
        "id": "NEvqqPO_dJxt"
      },
      "source": [
        "#2. PASSO\n",
        "\n",
        "Solicitar ao usuári o operacao matematica a ser realizada."
      ]
    },
    {
      "cell_type": "code",
      "metadata": {
        "colab": {
          "base_uri": "https://localhost:8080/"
        },
        "id": "4au19sjCdok1",
        "outputId": "6071df97-29d9-492a-fc53-56fd150e9c23"
      },
      "source": [
        "operacao = input('''\n",
        "Por favor digite a operacao matematica que voce deseja completar:\n",
        "+ para addition\n",
        "- para subtractio\n",
        "* para multipliation\n",
        "/ para division\n",
        "n para sair\n",
        "''')"
      ],
      "execution_count": null,
      "outputs": [
        {
          "output_type": "stream",
          "text": [
            "\n",
            "Por favor digite a operacao matematica que voce deseja completar:\n",
            "+ para addition\n",
            "- para subtractio\n",
            "* para multipliation\n",
            "/ para division\n",
            "n para sair\n",
            "+\n"
          ],
          "name": "stdout"
        }
      ]
    },
    {
      "cell_type": "markdown",
      "metadata": {
        "id": "6h3Zuycpd3o9"
      },
      "source": [
        "#3. PASSO\n",
        "\n",
        "Criar as condicionais, estrutra com if-else-elif para as operacoes matematicas."
      ]
    },
    {
      "cell_type": "code",
      "metadata": {
        "colab": {
          "base_uri": "https://localhost:8080/"
        },
        "id": "GMgROZ0njzLh",
        "outputId": "35c0b455-6c2d-4057-ec5c-992475f0d2d1"
      },
      "source": [
        "if operacao == 'n':\n",
        "  sair = input(\"Pressione 's' para confirmar\")\n",
        "  if sair == 's':\n",
        "    exit()\n",
        "  print('Obrigado por usar a calculadora')\n",
        "\n",
        "elif operacao == '+':\n",
        "    print('{} + {} = '.format(numero_1, numero_2))\n",
        "    soma = numero_1 + numero_2\n",
        "    print(soma)\n",
        "\n",
        "elif operacao == '-':\n",
        "    print('{} - {} = '.format(numero_1, numero_2))\n",
        "    subtracao = numero_1 - numero_2\n",
        "    print(subtracao)\n",
        "\n",
        "elif operacao == '*':\n",
        "    print('{} * {} = '.format(numero_1, numero_2))\n",
        "    print(numero_1 * numero_2)\n",
        "\n",
        "elif operacao == '/':\n",
        "    print('{} / {} = '.format(numero_1, numero_2))\n",
        "    print(numero_1 / numero_2)\n",
        "\n",
        "else:\n",
        "    print('Voce digitou uma operacao nao reconhecida reconhecida.')"
      ],
      "execution_count": null,
      "outputs": [
        {
          "output_type": "stream",
          "text": [
            "1 / 2 = \n",
            "0.5\n"
          ],
          "name": "stdout"
        }
      ]
    },
    {
      "cell_type": "markdown",
      "metadata": {
        "id": "yI31U1C4eq6T"
      },
      "source": [
        "#4. DEFININDO O SCRIPT COMO FUNCAO\n",
        "\n",
        "Exemplo prático de aplicacao de funcoes e otimizacao de script."
      ]
    },
    {
      "cell_type": "code",
      "metadata": {
        "id": "miwQLD4ElBjl"
      },
      "source": [
        "def calcular_01():\n",
        "  \"Inserir as rotinas isoladas otimizadas em uma funcao\"\n",
        "  print('Seja bem-vindo(a) à calculadora Python')\n",
        "  numero_1 = float(input('Digite o primeiro numero: '))\n",
        "  numero_2 = float(input('Digite o segundo numero: '))\n",
        "\n",
        "  operacao = input('''\n",
        "Por favor digite a operacao matematica que voce deseja completar:\n",
        "+ para addition\n",
        "- para subtraction\n",
        "* para multiplication\n",
        "/ para division\n",
        "n para sair\n",
        "''')\n",
        "\n",
        "  if operacao == 'n':\n",
        "    print('Obrigado por usar a calculadora')\n",
        "    sair = input(f\"Pressione 's' para confirmar: \")\n",
        "    if sair == 's':\n",
        "      print('Obrigado e até a próxima')\n",
        "      exit()\n",
        "\n",
        "  elif operacao == '+':\n",
        "    print('{} + {} = '.format(numero_1, numero_2))\n",
        "    soma = numero_1 + numero_2\n",
        "    print(soma)\n",
        "\n",
        "  elif operacao == '-':\n",
        "    print('{} - {} = '.format(numero_1, numero_2))\n",
        "    subtracao = numero_1 - numero_2\n",
        "    print(subtracao)\n",
        "\n",
        "  elif operacao == '*':\n",
        "    print('{} * {} = '.format(numero_1, numero_2))\n",
        "    print(numero_1 * numero_2)\n",
        "\n",
        "  elif operacao == '/':\n",
        "    print('{} / {} = '.format(numero_1, numero_2))\n",
        "    print(numero_1 / numero_2)\n",
        "\n",
        "  else:\n",
        "    print('Voce digitou uma operacao nao reconhecida.')"
      ],
      "execution_count": null,
      "outputs": []
    },
    {
      "cell_type": "code",
      "metadata": {
        "colab": {
          "base_uri": "https://localhost:8080/"
        },
        "id": "huhOso9DhK91",
        "outputId": "9fbf429a-09ed-4bb5-8ad8-f0ef35580f70"
      },
      "source": [
        "calcular_01()"
      ],
      "execution_count": null,
      "outputs": [
        {
          "output_type": "stream",
          "text": [
            "Seja bem-vindo(a) à calculadora Python\n",
            "Digite o primeiro numero: 1.4\n",
            "Digite o segundo numero: 1.5\n",
            "\n",
            "Por favor digite a operacao matematica que voce deseja completar:\n",
            "+ para addition\n",
            "- para subtraction\n",
            "* para multiplication\n",
            "/ para division\n",
            "n para sair\n",
            "*\n",
            "1.4 * 1.5 = \n",
            "2.0999999999999996\n"
          ],
          "name": "stdout"
        }
      ]
    }
  ]
}