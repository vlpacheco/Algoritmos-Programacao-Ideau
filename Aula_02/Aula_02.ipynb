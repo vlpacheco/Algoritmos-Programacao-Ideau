{
  "nbformat": 4,
  "nbformat_minor": 0,
  "metadata": {
    "colab": {
      "name": "Aula_02.ipynb",
      "provenance": [],
      "collapsed_sections": []
    },
    "kernelspec": {
      "name": "python3",
      "display_name": "Python 3"
    },
    "language_info": {
      "name": "python"
    }
  },
  "cells": [
    {
      "cell_type": "markdown",
      "metadata": {
        "id": "2ha8VSHqNsmZ"
      },
      "source": [
        "________________________________________________________________________________\n",
        "**Aula 02**\n",
        "\n",
        "________________________________________________________________________________"
      ]
    },
    {
      "cell_type": "markdown",
      "metadata": {
        "id": "d25sVwuVZkOC"
      },
      "source": [
        "________________________________________________________________________________\n",
        "**OBSERVACOES:**\n",
        "\n",
        "1) Python é Case-Sensitive:\n",
        "  A =! a\n",
        "\n",
        "2) Interpretar os erros!\n",
        "\n",
        "3) Funcoes com letras minusculas e sem espaco entre os caracteres:\n",
        "  print(), EVITAR\n",
        "\n",
        "4) Comentarios no código com #\n",
        "\n",
        "5) Ponto \".\" separa os decimais\n",
        "\n",
        "6) Colab pode \"livras a memoria\" e perder as variavies \n",
        "(Ambiente de Execucao --> Reiniciar e executar tudo)\n",
        "________________________________________________________________________________"
      ]
    },
    {
      "cell_type": "markdown",
      "metadata": {
        "id": "e0k8Gug8OsTl"
      },
      "source": [
        "***1. PROGRAMACAO CIENTÍFICA***\n",
        "\n",
        "1.   ˜Hello World˜\n",
        "2.   Variaveis\n",
        "3.   Listas\n",
        "4.   Tuplas\n",
        "5.   Dicionários\n",
        "6.   input()   "
      ]
    },
    {
      "cell_type": "markdown",
      "metadata": {
        "id": "rjPyI6X9O2s3"
      },
      "source": [
        "***1.1 Hello World***\n",
        "\n",
        "O “Olá, mundo”, em português, é um pequeno código que pode ser desenvolvido em diferentes linguagens de programação. Seu objetivo é facilitar o conhecimento da estrutura básica e o funcionamento da linguagem. Por isso, pode ser desenvolvido em várias linguagens como C++ Hello World , PHP Hello World, HTML Hello World, C Hello World e em muitas outras.\n",
        "\n",
        "Além disso, a mesma verifica se o ambiente está preparado adequadamente.\n",
        "\n",
        "Usa-se para isso a funcao print()\n"
      ]
    },
    {
      "cell_type": "code",
      "metadata": {
        "colab": {
          "base_uri": "https://localhost:8080/"
        },
        "id": "4WA2Y0gneU-n",
        "outputId": "13fb597b-1ccd-409f-8185-5ea59ac7aca2"
      },
      "source": [
        "#Executando o Hello Worl\"\n",
        "\n",
        "#Pode-se utilizar aspas duplas \" \"\n",
        "print(\"Hello World\")\n",
        "\n",
        "#Pode-se também fazer uso de aspas simples ' '\n",
        "print('Hello World')"
      ],
      "execution_count": null,
      "outputs": [
        {
          "output_type": "stream",
          "text": [
            "Hello World\n",
            "Hello World\n"
          ],
          "name": "stdout"
        }
      ]
    },
    {
      "cell_type": "markdown",
      "metadata": {
        "id": "xd6UAvxHibWr"
      },
      "source": [
        "***1.2 Atribuindo Variaveis***\n",
        "\n",
        "Para criar uma variável no Python, tudo o que você precisa fazer é especificar o nome da variável e atribuir um valor a ela.\n",
        "\n",
        "Python usa = para atribuir valores a variáveis. Não há necessidade de declarar uma variável antes (ou atribuir um tipo de dado a ela), ao atribuir um valor a uma variável, a variável se inicializa com esse valor. Não há como declarar uma variável sem atribuir um valor inicial a ela."
      ]
    },
    {
      "cell_type": "code",
      "metadata": {
        "id": "bs_W9MaXpqXS"
      },
      "source": [
        "#Atribuindo o valor 1 à variável var_teste\n",
        "var_teste = 1"
      ],
      "execution_count": null,
      "outputs": []
    },
    {
      "cell_type": "code",
      "metadata": {
        "colab": {
          "base_uri": "https://localhost:8080/"
        },
        "id": "qNGKsr_jpw-I",
        "outputId": "dbd6226d-2a43-497e-a21f-d586bee73319"
      },
      "source": [
        "#Imprimindo o valor da variável\n",
        "var_teste"
      ],
      "execution_count": null,
      "outputs": [
        {
          "output_type": "execute_result",
          "data": {
            "text/plain": [
              "1"
            ]
          },
          "metadata": {
            "tags": []
          },
          "execution_count": 7
        }
      ]
    },
    {
      "cell_type": "code",
      "metadata": {
        "colab": {
          "base_uri": "https://localhost:8080/"
        },
        "id": "D410lE35py8U",
        "outputId": "522eb558-7d86-46d7-823d-2ff416959acb"
      },
      "source": [
        "#Imprimindo o valor da variável usando o print\n",
        "print(var_teste)"
      ],
      "execution_count": null,
      "outputs": [
        {
          "output_type": "stream",
          "text": [
            "1\n"
          ],
          "name": "stdout"
        }
      ]
    },
    {
      "cell_type": "code",
      "metadata": {
        "colab": {
          "base_uri": "https://localhost:8080/"
        },
        "id": "y560BbzRp4vK",
        "outputId": "e8565622-a74b-461e-a658-b5d23600fab7"
      },
      "source": [
        "#Imprimindo o valor da variável usando o print e funcao 'f'\n",
        "print(f'Imprimir o valor da variavel: ', var_teste)"
      ],
      "execution_count": null,
      "outputs": [
        {
          "output_type": "stream",
          "text": [
            "Imprimir o valor da variavel:  1\n"
          ],
          "name": "stdout"
        }
      ]
    },
    {
      "cell_type": "code",
      "metadata": {
        "colab": {
          "base_uri": "https://localhost:8080/"
        },
        "id": "Z83OTKMibuwj",
        "outputId": "d624f391-f7d5-4812-e217-6b5a33826352"
      },
      "source": [
        "abc = 25\n",
        "print(f'O valor do abc é {abc}') "
      ],
      "execution_count": null,
      "outputs": [
        {
          "output_type": "stream",
          "text": [
            "O valor do abc é 25\n"
          ],
          "name": "stdout"
        }
      ]
    },
    {
      "cell_type": "markdown",
      "metadata": {
        "id": "1fIfR4fMsEDq"
      },
      "source": [
        "*1.2.1 Tipos de Variaveis*\n",
        "\n",
        "Em Python sao 4 as principais classses de variáveis:\n",
        "- int: representa os inteiros;\n",
        "- float: representa os números reais;\n",
        "- bool: Uma variável é booleana se tem apenas dois possíveis valores: false e true. Esses dois valores podem ser representados por 0 e 1;\n",
        "- strings: Uma string é uma sequência de 0 ou mais caracteres que representam um texto. Para indicar uma string no Python shell, devemos escrevê-lo entre apóstrofes (‘) ou aspas (“). "
      ]
    },
    {
      "cell_type": "code",
      "metadata": {
        "colab": {
          "base_uri": "https://localhost:8080/"
        },
        "id": "SXthVO_wqTb9",
        "outputId": "793ac09e-25ea-45c3-bf7c-0bb1466212bf"
      },
      "source": [
        "#int\n",
        "int = 4 * 4\n",
        "type(int)"
      ],
      "execution_count": null,
      "outputs": [
        {
          "output_type": "execute_result",
          "data": {
            "text/plain": [
              "int"
            ]
          },
          "metadata": {
            "tags": []
          },
          "execution_count": 26
        }
      ]
    },
    {
      "cell_type": "code",
      "metadata": {
        "colab": {
          "base_uri": "https://localhost:8080/"
        },
        "id": "Xa8T2SCTqmQ_",
        "outputId": "2075595f-e6bd-4f2c-e629-2cf28bcce6a8"
      },
      "source": [
        "#float\n",
        "fl = 4 * -3.3\n",
        "print(fl)\n",
        "type(fl)"
      ],
      "execution_count": null,
      "outputs": [
        {
          "output_type": "stream",
          "text": [
            "-13.2\n"
          ],
          "name": "stdout"
        },
        {
          "output_type": "execute_result",
          "data": {
            "text/plain": [
              "float"
            ]
          },
          "metadata": {
            "tags": []
          },
          "execution_count": 22
        }
      ]
    },
    {
      "cell_type": "code",
      "metadata": {
        "colab": {
          "base_uri": "https://localhost:8080/"
        },
        "id": "uFAgakL1tLLk",
        "outputId": "3e16e7f1-c5e9-4331-c1c3-a92fc1fe5ce0"
      },
      "source": [
        "#bool\n",
        "a = 2\n",
        "b = 5\n",
        "print('a é igual a b? ', a == b)"
      ],
      "execution_count": null,
      "outputs": [
        {
          "output_type": "stream",
          "text": [
            "a é igual a b?  False\n"
          ],
          "name": "stdout"
        }
      ]
    },
    {
      "cell_type": "code",
      "metadata": {
        "colab": {
          "base_uri": "https://localhost:8080/"
        },
        "id": "NCWelhh2t9Se",
        "outputId": "60bf6181-ea29-4d04-8abc-84cc7945e9ab"
      },
      "source": [
        "#string\n",
        "a = 'Pedro'\n",
        "print(a)\n",
        "type(a)"
      ],
      "execution_count": null,
      "outputs": [
        {
          "output_type": "stream",
          "text": [
            "Pedro\n"
          ],
          "name": "stdout"
        },
        {
          "output_type": "execute_result",
          "data": {
            "text/plain": [
              "str"
            ]
          },
          "metadata": {
            "tags": []
          },
          "execution_count": 30
        }
      ]
    },
    {
      "cell_type": "code",
      "metadata": {
        "colab": {
          "base_uri": "https://localhost:8080/"
        },
        "id": "XlXC5dytuP3V",
        "outputId": "9f0baa20-40fa-4348-fd7b-0d81cec8110b"
      },
      "source": [
        "#Operacoes com string\n",
        "#apenas concatenar\n",
        "\n",
        "x1 = a + a + a + a\n",
        "#x1 = a + 4\n",
        "print(x1)"
      ],
      "execution_count": null,
      "outputs": [
        {
          "output_type": "stream",
          "text": [
            "PedroPedroPedroPedro\n"
          ],
          "name": "stdout"
        }
      ]
    },
    {
      "cell_type": "code",
      "metadata": {
        "colab": {
          "base_uri": "https://localhost:8080/"
        },
        "id": "-DKeQHiwvBBk",
        "outputId": "05906950-b5fd-46b4-d413-9f1bcbef6b24"
      },
      "source": [
        "#Funcoes \"Built-in\"para strings\n",
        "\n",
        "algoritmos_ideau = 'Disciplina de Algoritmos e Programacao'\n",
        "print(algoritmos_ideau)\n",
        "\n",
        "#Upper case = Caixa Alta\n",
        "#algoritmos_ideau.upper()\n",
        "#print(algoritmos_ideau.upper())\n",
        "\n",
        "#Lower case = Caixa baixa\n",
        "#algoritmos_ideau.upper()\n",
        "#print(algoritmos_ideau.lower())\n",
        "\n",
        "#Split = dividir a sentença\n",
        "#algoritmos_ideau.split()\n",
        "#print(algoritmos_ideau.split())"
      ],
      "execution_count": null,
      "outputs": [
        {
          "output_type": "stream",
          "text": [
            "Disciplina de Algoritmos e Programacao\n",
            "disciplina de algoritmos e programacao\n"
          ],
          "name": "stdout"
        }
      ]
    },
    {
      "cell_type": "markdown",
      "metadata": {
        "id": "U0nK6UUmySaJ"
      },
      "source": [
        "***1.3 Listas***\n",
        "\n",
        "Uma lista (list) em Python é uma sequência ou coleção ordenada de valores. Cada valor na lista é identificado por um índice. O valores que formam uma lista são chamados elementos ou itens. Listas são similares a strings, que são uma sequência de caracteres, no entanto, diferentemente de strings, os itens de uma lista podem ser de tipos diferentes.\n",
        "\n",
        "OBS.1: Para listas, usa-se **COLCHETES []**\n",
        "\n",
        "OBS.2: Separa-se os elementos da lista com \" , \""
      ]
    },
    {
      "cell_type": "code",
      "metadata": {
        "colab": {
          "base_uri": "https://localhost:8080/"
        },
        "id": "dwZYVogQyTGB",
        "outputId": "2d5f67a3-c832-4215-ff53-f7e449c7d4e7"
      },
      "source": [
        "#Listas com elementos da mesma classe (string)\n",
        "lista_mercado = ['pao', 'cerveja', 'arroz', 'feijao']\n",
        "print(f'Essa é minha lista do mercado: {lista_mercado}')"
      ],
      "execution_count": null,
      "outputs": [
        {
          "output_type": "stream",
          "text": [
            "Essa é minha lista do mercado: ['pao', 'cerveja', 'arroz', 'feijao']\n"
          ],
          "name": "stdout"
        }
      ]
    },
    {
      "cell_type": "code",
      "metadata": {
        "colab": {
          "base_uri": "https://localhost:8080/"
        },
        "id": "sfmH-nifyPEk",
        "outputId": "c14444d3-fb5f-49d1-ad7a-2ce6ace8c9bf"
      },
      "source": [
        "#Listas com elementos da mesma classe (numeros - int e floats)\n",
        "lista_notas = [10, 9, 9.3, 7.5]\n",
        "print(f'Essa sao as notas dos alunos: {lista_notas}')"
      ],
      "execution_count": null,
      "outputs": [
        {
          "output_type": "stream",
          "text": [
            "Essa sao as notas dos alunos: [10, 9, 9.3, 7.5]\n"
          ],
          "name": "stdout"
        }
      ]
    },
    {
      "cell_type": "code",
      "metadata": {
        "colab": {
          "base_uri": "https://localhost:8080/"
        },
        "id": "3kFX8KdCjFTM",
        "outputId": "87bad68f-44ae-4c4f-965f-7474720a663a"
      },
      "source": [
        "#Listas com elementos diversos - strings, bools, int, float\n",
        "lista_diversos = ['Python', 9.4, True, 10]\n",
        "print(f'Essa é minha lista aleatoria {lista_diversos}')"
      ],
      "execution_count": null,
      "outputs": [
        {
          "output_type": "stream",
          "text": [
            "Essa é minha lista aleatoria ['Python', 9.4, True, 10]\n"
          ],
          "name": "stdout"
        }
      ]
    },
    {
      "cell_type": "code",
      "metadata": {
        "colab": {
          "base_uri": "https://localhost:8080/"
        },
        "id": "Rqm9-mYOkP7c",
        "outputId": "fc6896f7-059a-4f31-c019-0a2eba4c46b2"
      },
      "source": [
        "#Index: a partir do 0\n",
        "lista_01 = ['Engenharia', 0.1, 10]\n",
        "print(lista_01[2])"
      ],
      "execution_count": null,
      "outputs": [
        {
          "output_type": "stream",
          "text": [
            "10\n"
          ],
          "name": "stdout"
        }
      ]
    },
    {
      "cell_type": "code",
      "metadata": {
        "colab": {
          "base_uri": "https://localhost:8080/"
        },
        "id": "p1jWKGm7lSEt",
        "outputId": "b6f2ba6d-287c-4898-ba46-b18f4dedf087"
      },
      "source": [
        "#Atualizando valores da lista // Index Python inicia em ZERO\n",
        "lista_01[0] = \"Odontologia\"\n",
        "lista_01[1] = 2\n",
        "lista_01[2] = \"Programacao\"\n",
        "print(f'Essa é a nova lista: {lista_01}')"
      ],
      "execution_count": null,
      "outputs": [
        {
          "output_type": "stream",
          "text": [
            "Essa é a nova lista: ['Odontologia', 2, 'Programacao']\n"
          ],
          "name": "stdout"
        }
      ]
    },
    {
      "cell_type": "code",
      "metadata": {
        "colab": {
          "base_uri": "https://localhost:8080/"
        },
        "id": "rK0aoJN3nkRA",
        "outputId": "e113fbfa-45da-45ec-ef7c-f461a8ce81aa"
      },
      "source": [
        "#Concatenando Listas\n",
        "lista_a = [0, 1, 2]\n",
        "lista_b = [3, 4, 5]\n",
        "\n",
        "lista_c = lista_a + lista_b\n",
        "print(f'Essa é a nova lista {lista_c}')"
      ],
      "execution_count": null,
      "outputs": [
        {
          "output_type": "stream",
          "text": [
            "Essa é a nova lista [0, 1, 2, 3, 4, 5]\n"
          ],
          "name": "stdout"
        }
      ]
    },
    {
      "cell_type": "code",
      "metadata": {
        "colab": {
          "base_uri": "https://localhost:8080/"
        },
        "id": "SgL_CL9umfbO",
        "outputId": "1cbdbce8-480d-4bb0-9b1f-c287d44a0308"
      },
      "source": [
        "lista_str1 = [\"Casa\", \"Carro\", \"Telefone\"]\n",
        "lista_str2 = [\"Shopping\", \"Estadio\", \"Predio\"]\n",
        "\n",
        "lista_str3 = lista_str1 + lista_str2\n",
        "print(lista_str3)"
      ],
      "execution_count": null,
      "outputs": [
        {
          "output_type": "stream",
          "text": [
            "['Casa', 'Carro', 'Telefone', 'Shopping', 'Estadio', 'Predio']\n"
          ],
          "name": "stdout"
        }
      ]
    },
    {
      "cell_type": "markdown",
      "metadata": {
        "id": "nflULGOVCF3c"
      },
      "source": [
        "***1.4 Tupla***\n",
        "\n",
        "Tupla é um tipo de estrutura de dados utilizada em Python que funciona de modo semelhante a uma lista, entretanto, com a característica principal de ser **imutável**. Isso significa que quando uma tupla é criada não é possível adicionar, alterar ou remover seus elementos. Geralmente, ela é utilizada para adicionar tipos diferentes de informações, porém, com a quantidade de elementos definidos.\n",
        "\n",
        "Podemos utilizar uma tupla de dois elementos, por exemplo, para indicar a sigla do estado em uma posição e o nome dele em outra. Portanto, ela é uma boa opção quando queremos trabalhar com informações diferentes em uma mesma variável e quando queremos que esses **dados não sofram alterações.**\n",
        "\n",
        "OBS.1: Para listas, usa-se **PARÊNTESES ()**\n",
        "\n",
        "OBS.2: Separa-se os elementos da lista com \" , \""
      ]
    },
    {
      "cell_type": "code",
      "metadata": {
        "colab": {
          "base_uri": "https://localhost:8080/"
        },
        "id": "JGzBnlfuCqmY",
        "outputId": "4cfdc532-8c0b-4bb2-bd54-e331d76e8f2e"
      },
      "source": [
        "#Criando uma tupla\n",
        "\n",
        "tupla_1 = (\"Algoritmos\", 13, \"Programacao\")\n",
        "print(tupla_1)"
      ],
      "execution_count": null,
      "outputs": [
        {
          "output_type": "stream",
          "text": [
            "('Algoritmos', 13, 'Programacao')\n"
          ],
          "name": "stdout"
        },
        {
          "output_type": "execute_result",
          "data": {
            "text/plain": [
              "('Algoritmos', 13, 'Programacao')"
            ]
          },
          "metadata": {
            "tags": []
          },
          "execution_count": 5
        }
      ]
    },
    {
      "cell_type": "code",
      "metadata": {
        "colab": {
          "base_uri": "https://localhost:8080/"
        },
        "id": "1oi9H0OLC9gI",
        "outputId": "8b2eec4a-9b6f-4a03-a842-261dd1c741e5"
      },
      "source": [
        "#Tupla com item unico\n",
        "tupla_unica = (\"Google Colab\")\n",
        "print(f'Essa é a tupla unica: {tupla_unica}')"
      ],
      "execution_count": null,
      "outputs": [
        {
          "output_type": "stream",
          "text": [
            "Essa é a tupla unica: Google Colab\n"
          ],
          "name": "stdout"
        }
      ]
    },
    {
      "cell_type": "code",
      "metadata": {
        "colab": {
          "base_uri": "https://localhost:8080/"
        },
        "id": "Fi363HMcDWj-",
        "outputId": "72882352-3e89-466e-ed2e-986d7a090d7e"
      },
      "source": [
        "#Verificar o comprimento da tupla (len)\n",
        "len(tupla_1)"
      ],
      "execution_count": null,
      "outputs": [
        {
          "output_type": "execute_result",
          "data": {
            "text/plain": [
              "3"
            ]
          },
          "metadata": {
            "tags": []
          },
          "execution_count": 9
        }
      ]
    },
    {
      "cell_type": "code",
      "metadata": {
        "colab": {
          "base_uri": "https://localhost:8080/",
          "height": 181
        },
        "id": "BObDUcj8DqoS",
        "outputId": "04091d91-563b-4cac-a4bd-5f359dcd8908"
      },
      "source": [
        "#Nao realizam atribuicao de valores\n",
        "tupla_1[0] = \"Chocolate\""
      ],
      "execution_count": null,
      "outputs": [
        {
          "output_type": "error",
          "ename": "NameError",
          "evalue": "ignored",
          "traceback": [
            "\u001b[0;31m---------------------------------------------------------------------------\u001b[0m",
            "\u001b[0;31mNameError\u001b[0m                                 Traceback (most recent call last)",
            "\u001b[0;32m<ipython-input-1-ad60f2a941e3>\u001b[0m in \u001b[0;36m<module>\u001b[0;34m()\u001b[0m\n\u001b[1;32m      1\u001b[0m \u001b[0;31m#Nao realizam atribuicao de valores\u001b[0m\u001b[0;34m\u001b[0m\u001b[0;34m\u001b[0m\u001b[0;34m\u001b[0m\u001b[0m\n\u001b[0;32m----> 2\u001b[0;31m \u001b[0mtupla_1\u001b[0m\u001b[0;34m[\u001b[0m\u001b[0;36m0\u001b[0m\u001b[0;34m]\u001b[0m \u001b[0;34m=\u001b[0m \u001b[0;34m\"Chocolate\"\u001b[0m\u001b[0;34m\u001b[0m\u001b[0;34m\u001b[0m\u001b[0m\n\u001b[0m",
            "\u001b[0;31mNameError\u001b[0m: name 'tupla_1' is not defined"
          ]
        }
      ]
    },
    {
      "cell_type": "markdown",
      "metadata": {
        "id": "prxpgnk7FdEj"
      },
      "source": [
        "***1.5 Dicionario***\n",
        "\n",
        "Dicionário é um tipo diferente de coleção. Ele é um tipo de mapeamento nativo do Python. Um mapa é uma coleção associativa desordenada. A associação, ou mapeamento, é feita a partir de uma chave, que pode ser qualquer tipo imutável, para um valor, que pode ser qualquer objeto de dados do Python."
      ]
    },
    {
      "cell_type": "code",
      "metadata": {
        "colab": {
          "base_uri": "https://localhost:8080/"
        },
        "id": "QMTYKAHsGP1U",
        "outputId": "2d5f5d5a-e741-42d6-a102-f96ccd0e957f"
      },
      "source": [
        "#Dicionário, com a chave: nome, e valor? idade\n",
        "jogadores_dict = {\"Neymar Jr\": 28, \"Messi\": 31, \"Dalessandro\": 39, \"Cristiano Ronaldo\": 35}\n",
        "jogadores_dict"
      ],
      "execution_count": null,
      "outputs": [
        {
          "output_type": "execute_result",
          "data": {
            "text/plain": [
              "{'Cristiano Ronaldo': 35, 'Dalessandro': 39, 'Messi': 31, 'Neymar Jr': 28}"
            ]
          },
          "metadata": {
            "tags": []
          },
          "execution_count": 3
        }
      ]
    },
    {
      "cell_type": "code",
      "metadata": {
        "colab": {
          "base_uri": "https://localhost:8080/"
        },
        "id": "cetm6dw8G9eS",
        "outputId": "784951f7-9d4b-4fe8-9f19-e54c1560d434"
      },
      "source": [
        "#Pesquisar o valor a partir da chave\n",
        "jogadores_dict[\"Neymar Jr\"]"
      ],
      "execution_count": null,
      "outputs": [
        {
          "output_type": "execute_result",
          "data": {
            "text/plain": [
              "28"
            ]
          },
          "metadata": {
            "tags": []
          },
          "execution_count": 4
        }
      ]
    },
    {
      "cell_type": "code",
      "metadata": {
        "colab": {
          "base_uri": "https://localhost:8080/"
        },
        "id": "UOE2kkyEHjZq",
        "outputId": "81663ad6-83f4-4794-ef81-5400ffa57e61"
      },
      "source": [
        "#Criar dicionário em branco\n",
        "dic = {}\n",
        "dic['nome'] = \"Guido van Rossum\"\n",
        "dic['idade']  = 61\n",
        "dic"
      ],
      "execution_count": null,
      "outputs": [
        {
          "output_type": "execute_result",
          "data": {
            "text/plain": [
              "{'idade': 61, 'nome': 'Guido van Rossum'}"
            ]
          },
          "metadata": {
            "tags": []
          },
          "execution_count": 20
        }
      ]
    },
    {
      "cell_type": "markdown",
      "metadata": {
        "id": "xsRiu0EcajAG"
      },
      "source": [
        "***1.6 input()***\n",
        "\n",
        "Uma das tarefas mais comuns em um programa ou script é a captura de dados digitados pelos usuários, para que possam ser processados dentro do programa. Em Python, podemos empregar a função input() para realizar essa tarefa corriqueira.\n",
        "\n",
        "- Sintaxe do input():\n",
        "a = input(\"Digite seu nome: \");\n",
        "\n",
        "- Tipo de variável por ordem é ˜string˜, podendo ser especificada."
      ]
    },
    {
      "cell_type": "code",
      "metadata": {
        "colab": {
          "base_uri": "https://localhost:8080/"
        },
        "id": "RuSDCw-1eYYH",
        "outputId": "09702ff6-b220-4d61-88c3-68b817d30eae"
      },
      "source": [
        "a = input(\"Digite seu nome: \")\n",
        "print(\"O Nome do usuário é: \", a)"
      ],
      "execution_count": null,
      "outputs": [
        {
          "output_type": "stream",
          "text": [
            "Digite seu nome: Vinicius\n",
            "O Nome do usuário é:  Vinicius\n"
          ],
          "name": "stdout"
        }
      ]
    },
    {
      "cell_type": "code",
      "metadata": {
        "colab": {
          "base_uri": "https://localhost:8080/"
        },
        "id": "GWM1WkroSh3K",
        "outputId": "37335560-1973-4f7a-ddd4-a449d1da7a4f"
      },
      "source": [
        "a = input(\"Digite seu nome: \")\n",
        "print(f'O nome do usuario é {a}')"
      ],
      "execution_count": null,
      "outputs": [
        {
          "output_type": "stream",
          "text": [
            "Digite seu nome: vini\n"
          ],
          "name": "stdout"
        }
      ]
    },
    {
      "cell_type": "code",
      "metadata": {
        "colab": {
          "base_uri": "https://localhost:8080/"
        },
        "id": "bHKpPbOo8l5y",
        "outputId": "f083b16e-5695-47a4-8f65-9c6f0574ad8c"
      },
      "source": [
        "a = int(input(\"Qual sua idade: \"))\n",
        "print(f'A idade do usuario é {a} anos')"
      ],
      "execution_count": null,
      "outputs": [
        {
          "output_type": "stream",
          "text": [
            "Qual sua idade: 98\n",
            "A idade do usuario é 98 anos\n"
          ],
          "name": "stdout"
        }
      ]
    },
    {
      "cell_type": "markdown",
      "metadata": {
        "id": "idndNzPx7WjW"
      },
      "source": [
        "________________________________________________________________________________\n",
        "**EXERCÍCIOS**\n",
        "________________________________________________________________________________"
      ]
    },
    {
      "cell_type": "markdown",
      "metadata": {
        "id": "q2HdynRrfM_a"
      },
      "source": [
        "1. Crie uma rotina com o nome e a idade do usuário, fazendo o print da mesma na tela após a coleta das informacoes. Use as funcoes input() e print()."
      ]
    },
    {
      "cell_type": "code",
      "metadata": {
        "colab": {
          "base_uri": "https://localhost:8080/"
        },
        "id": "FokNvOA_fdHT",
        "outputId": "f5d4a203-557e-4b81-fc0b-8a06640d71ae"
      },
      "source": [
        "nome = input(\"O nome do usuário é: \")\n",
        "idade = int(input(\"A idade do usuário é: \"))\n",
        "print(\"Ö nome do usuário é\", nome, \"e a idade do usuário é\", idade)"
      ],
      "execution_count": null,
      "outputs": [
        {
          "output_type": "stream",
          "text": [
            "O nome do usuário é: vini\n",
            "A idade do usuário é: 92\n",
            "Ö nome do usuário é  vini e a idade do usuário é  92\n"
          ],
          "name": "stdout"
        }
      ]
    },
    {
      "cell_type": "markdown",
      "metadata": {
        "id": "va5smnQ_7ft4"
      },
      "source": [
        "2. Exemplo: Crie uma rotina com entrada de dados de sua **massa** em kg e retorne o seu **peso** em Newtons"
      ]
    },
    {
      "cell_type": "code",
      "metadata": {
        "colab": {
          "base_uri": "https://localhost:8080/"
        },
        "id": "lSjgaNdk7yXl",
        "outputId": "b2d7d0b8-a890-4130-8168-d6d7d22bd43f"
      },
      "source": [
        "massa_kg = float(input(\"Seu peso em kg é: \" ))\n",
        "massa_Newton = massa_kg * 9.81\n",
        "print(\"Seu peso é:\", massa_Newton, \"Newtons\")"
      ],
      "execution_count": null,
      "outputs": [
        {
          "output_type": "stream",
          "text": [
            "Seu peso em kg é: 10\n",
            "Seu peso é: 98.10000000000001 Newtons\n"
          ],
          "name": "stdout"
        }
      ]
    },
    {
      "cell_type": "markdown",
      "metadata": {
        "id": "1j-VdxZJGMpk"
      },
      "source": [
        "3. Crie uma rotina com entrada de dados para a conversao de unidades de medida em **metros** para **kilometros**."
      ]
    },
    {
      "cell_type": "code",
      "metadata": {
        "colab": {
          "base_uri": "https://localhost:8080/"
        },
        "id": "KrB3KoesGcNK",
        "outputId": "c6fc497c-0acb-482f-9613-2cd139fdd353"
      },
      "source": [
        "entrada_metros = int(input(\"A unidade de comprimento em metros é: \"))\n",
        "saida_km = entrada_metros / 1000\n",
        "print(\"A unidade de medida é:\", saida_km, \"km\")"
      ],
      "execution_count": null,
      "outputs": [
        {
          "output_type": "stream",
          "text": [
            "A unidade de comprimento em metros é: 10\n",
            "A unidade de medida é: 0.01 km\n"
          ],
          "name": "stdout"
        }
      ]
    },
    {
      "cell_type": "markdown",
      "metadata": {
        "id": "RxnDsI4PIRph"
      },
      "source": [
        "4. Imprima na tela os números de 1 a 10. Use uma lista para armazenar os números."
      ]
    },
    {
      "cell_type": "code",
      "metadata": {
        "colab": {
          "base_uri": "https://localhost:8080/"
        },
        "id": "sMXyti3zIZi8",
        "outputId": "a1c55151-d8fd-48d6-d262-d5eb668dd120"
      },
      "source": [
        "lista = [1,2,3,4,5,6,7,8,9,10]\n",
        "print(lista)"
      ],
      "execution_count": null,
      "outputs": [
        {
          "output_type": "stream",
          "text": [
            "[1, 2, 3, 4, 5, 6, 7, 8, 9, 10]\n"
          ],
          "name": "stdout"
        }
      ]
    },
    {
      "cell_type": "markdown",
      "metadata": {
        "id": "4e_1viU6iM-h"
      },
      "source": [
        "5. Crie duas listas, uma com suas comidas favoritas e outra com suas bebidas favoritas. Após, crie uma terceira lista concatenando ambas e fazendo uso da funcao print() com a lista final"
      ]
    },
    {
      "cell_type": "code",
      "metadata": {
        "colab": {
          "base_uri": "https://localhost:8080/"
        },
        "id": "tY3JKrt6iaWH",
        "outputId": "8fb9e1dd-8717-47c8-93bf-276a442cdc43"
      },
      "source": [
        "lista_comidas = [\"hamburguer\", \"sushi\", \"pizza\"]\n",
        "lista_bebidas = [\"h2o\", \"Stella\", \"suco de laranja\"]\n",
        "lista_comidas_bebidas = lista_comidas + lista_bebidas\n",
        "\n",
        "print(\"Minhas preferências sao: \", lista_comidas_bebidas)"
      ],
      "execution_count": null,
      "outputs": [
        {
          "output_type": "stream",
          "text": [
            "Minhas preferências sao:  ['hamburguer', 'sushi', 'pizza', 'h2o', 'Stella', 'suco de laranja']\n"
          ],
          "name": "stdout"
        }
      ]
    }
  ]
}