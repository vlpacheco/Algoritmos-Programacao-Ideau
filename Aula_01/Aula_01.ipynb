{
  "nbformat": 4,
  "nbformat_minor": 0,
  "metadata": {
    "colab": {
      "name": "Aula_01.ipynb",
      "provenance": [],
      "collapsed_sections": []
    },
    "kernelspec": {
      "name": "python3",
      "display_name": "Python 3"
    },
    "language_info": {
      "name": "python"
    }
  },
  "cells": [
    {
      "cell_type": "markdown",
      "metadata": {
        "id": "2ha8VSHqNsmZ"
      },
      "source": [
        "________________________________________________________________________________\n",
        "**Aula 01**\n",
        "________________________________________________________________________________"
      ]
    },
    {
      "cell_type": "markdown",
      "metadata": {
        "id": "e0k8Gug8OsTl"
      },
      "source": [
        "***1. INTRODUCAO AO AMBIENTE PYTHON***"
      ]
    },
    {
      "cell_type": "markdown",
      "metadata": {
        "id": "rjPyI6X9O2s3"
      },
      "source": [
        "*1.1 Operdores Aritméticos*\n",
        "\n",
        "Operadores são símbolos especiais que representam diferentes operações computacionais. Um operador aritmético é uma função matemática que utiliza dois operandos e realiza um cálculo sobre eles. Eles são usados em aritmética comum e a maioria das linguagens de computador contém um conjunto de operadores que podem ser aplicados dentro de equações para executar vários tipos de cálculos. Os principais operadores aritméticos utilizados em linguagem Python são apresentados a seguir na Tabela 1.\n",
        "\n"
      ]
    },
    {
      "cell_type": "markdown",
      "metadata": {
        "id": "prvIIe0HQTjm"
      },
      "source": [
        "Tabela 1:\n",
        "```markdown\n",
        "Operacao            | Operador | Descricao \n",
        "------------------- |--------- | ----------------------------------------------\n",
        "Adicao              |     +    | Soma os valores de ambos os lados do operador\n",
        "Subtracao           |     -    | Subtrai o operador à direita do operando\n",
        "Multiplicacao       |     *    | Multiplica os valores de ambos os lados\n",
        "Divisao             |     /    | Divide o operador da esquerda pelo da direita\n",
        "Modulo de divisao.  |     %    | Divisao retornando o ˜resto˜\n",
        "Expoente            |     **   | Executa cálculo exponencial\n",
        "Parte Interna       |     //   | Retorna o quociente inteiro da operacao\n",
        "Separador Decimal   |     .    | Separador decimal é o PONTO\n",
        "\n",
        "```"
      ]
    },
    {
      "cell_type": "code",
      "metadata": {
        "colab": {
          "base_uri": "https://localhost:8080/"
        },
        "id": "u07Dz0x8fClU",
        "outputId": "60eeeb45-124d-409e-acbb-8a2572a3a794"
      },
      "source": [
        "print(\"Oi mundo\")"
      ],
      "execution_count": null,
      "outputs": [
        {
          "output_type": "stream",
          "text": [
            "Oi mundo\n"
          ],
          "name": "stdout"
        }
      ]
    },
    {
      "cell_type": "markdown",
      "metadata": {
        "id": "n8nQZF9j0xsr"
      },
      "source": [
        "*1.1.1 Funcao \"print\"*\n",
        "\n",
        "A função print() em Python. A função print() é uma das funções mais importantes e usadas na linguagem Python. Sua função é, basicamente, exibir mensagens na tela ou enviá-las para outro dispositivo, como imprimir dentro de arquivos de texto.\n"
      ]
    },
    {
      "cell_type": "markdown",
      "metadata": {
        "id": "55RcKMJaTcS-"
      },
      "source": [
        "**Exemplo 1: Utilizando operadores aritiméticos.**\n",
        "\n",
        "O código abaixo exemplifica a aplicação dos principais operadores aritméticos "
      ]
    },
    {
      "cell_type": "code",
      "metadata": {
        "colab": {
          "base_uri": "https://localhost:8080/"
        },
        "id": "TQKnSerRUOFn",
        "outputId": "89ab9c9e-48fb-4f52-b265-1904b50eeb9c"
      },
      "source": [
        "#Atribuindo valores para a e b\n",
        "a = 21\n",
        "b = 10\n",
        "\n",
        "#Calculando a soma e imprimindo a funcao\n",
        "x1 = a + b\n",
        "print(\"A soma entre\", a, \"e\", b, \"é\", x1)"
      ],
      "execution_count": null,
      "outputs": [
        {
          "output_type": "stream",
          "text": [
            "A soma entre 21 e 10 é 31\n"
          ],
          "name": "stdout"
        }
      ]
    },
    {
      "cell_type": "code",
      "metadata": {
        "id": "z5979fVThoqw"
      },
      "source": [
        "a = 21\n",
        "b = 10\n",
        "\n",
        "x1 = a + b"
      ],
      "execution_count": null,
      "outputs": []
    },
    {
      "cell_type": "code",
      "metadata": {
        "colab": {
          "base_uri": "https://localhost:8080/"
        },
        "id": "MIBWsVUP2yHS",
        "outputId": "81a57d98-4dbb-4fb9-ea49-3443755561e5"
      },
      "source": [
        "#Calculando a subtracao\n",
        "x2 = a - b\n",
        "print(\"A subtração entre\", a, \"e\", b, \"é\", x2)"
      ],
      "execution_count": null,
      "outputs": [
        {
          "output_type": "stream",
          "text": [
            "A subtração entre 21 e 10 é 11\n"
          ],
          "name": "stdout"
        }
      ]
    },
    {
      "cell_type": "code",
      "metadata": {
        "colab": {
          "base_uri": "https://localhost:8080/"
        },
        "id": "MLfiWS54yrbl",
        "outputId": "180f786a-3072-4e78-d535-a6640b04cbcd"
      },
      "source": [
        "#Calculando a multiplicacao\n",
        "x3 = a * b\n",
        "print(\"O produto entre\", a, \"e\", b, \"é\", x3)"
      ],
      "execution_count": null,
      "outputs": [
        {
          "output_type": "stream",
          "text": [
            "O produto entre 21 e 10 é 210\n"
          ],
          "name": "stdout"
        }
      ]
    },
    {
      "cell_type": "code",
      "metadata": {
        "id": "RLTRlvb4ytA-"
      },
      "source": [
        "#Calculando a divisao\n",
        "x4 = a / b\n",
        "print(\"O quociente entre\", a, \"e\", b, \"é\", x4)"
      ],
      "execution_count": null,
      "outputs": []
    },
    {
      "cell_type": "code",
      "metadata": {
        "colab": {
          "base_uri": "https://localhost:8080/"
        },
        "id": "Bd6M9l12yuFX",
        "outputId": "b7c67b50-8950-43e8-dd17-ea208aee3fc6"
      },
      "source": [
        "#Calculando o resto da divisao\n",
        "x5 = a % b\n",
        "print(\"O resto da divisão entre\", a, \"e\", b, \"é\", x5)"
      ],
      "execution_count": null,
      "outputs": [
        {
          "output_type": "stream",
          "text": [
            "O resto da divisão entre 21 e 10 é 1\n"
          ],
          "name": "stdout"
        }
      ]
    },
    {
      "cell_type": "code",
      "metadata": {
        "colab": {
          "base_uri": "https://localhost:8080/"
        },
        "id": "6DIpHXw725ix",
        "outputId": "8fbdd6e2-4d26-4787-a627-6ed8148a14a9"
      },
      "source": [
        "#Atribuindo mais valores para c e d\n",
        "c = 2\n",
        "d = 3\n",
        "\n",
        "#Calculando a exponenciacao\n",
        "x6 = c**d \n",
        "print(a, \"elevado a\", b, \"é\", x6)"
      ],
      "execution_count": null,
      "outputs": [
        {
          "output_type": "stream",
          "text": [
            "21 elevado a 10 é 8\n"
          ],
          "name": "stdout"
        }
      ]
    },
    {
      "cell_type": "markdown",
      "metadata": {
        "id": "CWSO_I58YC6Y"
      },
      "source": [
        "*1.2 Operdores de Comparacao*\n",
        "\n",
        "Um operador de comparação é um símbolo matemático utilizado para comparar dois valores. Todos os operadores de comparação são operadores binários que retornam valores do tipo boolean (verdadeiro ou falso), de acordo com a Tabela 2."
      ]
    },
    {
      "cell_type": "markdown",
      "metadata": {
        "id": "H-WCgtJOYRcQ"
      },
      "source": [
        "Tabela 2:\n",
        "```markdown\n",
        "Operacao         |Operador | Descricao \n",
        "-----------------|---------| --------------------------------------------------\n",
        "Igual a          |    ==   | Operadores com valores iguais, operacao verdadeira\n",
        "Diferente de     |    !=   | Valores diferentes, a condicao vai ser verdadeira\n",
        "Maior que        |    >    | Se o operador for maior, condicao verdadeira\n",
        "Menor que        |    <    | Se o operador for menor, operacao verdadeira\n",
        "Maior ou igual a |    >=   | Se o operador for maior ou igual, verdadeira\n",
        "Menor ou igual a |    <=   | Se o operador for menor ou igual, verdadeira\n",
        "\n",
        "```"
      ]
    },
    {
      "cell_type": "markdown",
      "metadata": {
        "id": "WhCMnZpp0V46"
      },
      "source": [
        "**Exemplo 2: Utilizando comparacao.**\n"
      ]
    },
    {
      "cell_type": "code",
      "metadata": {
        "colab": {
          "base_uri": "https://localhost:8080/"
        },
        "id": "Zjrl9kEha3gK",
        "outputId": "60eb66dd-4a23-40af-f500-597f56b4aa64"
      },
      "source": [
        "#Adicionando comentario no código com #\n",
        "a = 20\n",
        "b = 16\n",
        "\n",
        "#a é maior que b?\n",
        "print('a > b  é', a > b)"
      ],
      "execution_count": null,
      "outputs": [
        {
          "output_type": "stream",
          "text": [
            "a > b  é True\n"
          ],
          "name": "stdout"
        }
      ]
    },
    {
      "cell_type": "code",
      "metadata": {
        "id": "1xY8A6WKy8Dv"
      },
      "source": [
        "#a é menor que b?\n",
        "print('a < b  is', a < b)"
      ],
      "execution_count": null,
      "outputs": []
    },
    {
      "cell_type": "code",
      "metadata": {
        "colab": {
          "base_uri": "https://localhost:8080/"
        },
        "id": "GrrWWmnlzHrA",
        "outputId": "5e25d8ba-0d9d-4d93-d8c5-b68f85b8953c"
      },
      "source": [
        "#a é igual a b?\n",
        "\n",
        "print('a == b is', a == b)"
      ],
      "execution_count": null,
      "outputs": [
        {
          "output_type": "stream",
          "text": [
            "a == b is False\n"
          ],
          "name": "stdout"
        }
      ]
    },
    {
      "cell_type": "code",
      "metadata": {
        "colab": {
          "base_uri": "https://localhost:8080/"
        },
        "id": "aKlJUQWvzPH4",
        "outputId": "cabf1e35-3760-466b-a756-754f6d60bf1b"
      },
      "source": [
        "#a é diferente de b?\n",
        "print('a != b is', a != b)"
      ],
      "execution_count": null,
      "outputs": [
        {
          "output_type": "stream",
          "text": [
            "a != b is True\n"
          ],
          "name": "stdout"
        }
      ]
    },
    {
      "cell_type": "code",
      "metadata": {
        "colab": {
          "base_uri": "https://localhost:8080/"
        },
        "id": "Iv3jJaCFzWun",
        "outputId": "7d0a631e-7e29-4f5b-e46c-cd66c1c9e2fb"
      },
      "source": [
        "#a é maior ou igual a b?\n",
        "print('a >= b is', a >= b)"
      ],
      "execution_count": null,
      "outputs": [
        {
          "output_type": "stream",
          "text": [
            "a >= b is True\n"
          ],
          "name": "stdout"
        }
      ]
    },
    {
      "cell_type": "code",
      "metadata": {
        "colab": {
          "base_uri": "https://localhost:8080/"
        },
        "id": "Ddhe3HQFzbcb",
        "outputId": "7aaeeb9d-f5e8-4fd4-9c86-7e86de629416"
      },
      "source": [
        "#a é menor ou igual a b?\n",
        "print('a <= b is', a <= b)"
      ],
      "execution_count": null,
      "outputs": [
        {
          "output_type": "stream",
          "text": [
            "a <= b is False\n"
          ],
          "name": "stdout"
        }
      ]
    },
    {
      "cell_type": "markdown",
      "metadata": {
        "id": "M63ga97Lb0QS"
      },
      "source": [
        "*1.3 Operdores Logicos*\n",
        "\n",
        "Os operadores lógicos realizam a comparação entre expressões, com exceção do operador de negação (!) que compara apenas um valor. De acordo com a Tabela 3."
      ]
    },
    {
      "cell_type": "markdown",
      "metadata": {
        "id": "udKP93iTcJk2"
      },
      "source": [
        "Tabela 3:\n",
        "```markdown\n",
        "Operacao |Operador| Descricao \n",
        "---------|--------| ------------------------------------------------------\n",
        "E        |   and  | Se ambos forem verdadeiros, a condicao será verdadeira\n",
        "Ou       |   or   | Se algum dos dois operadores for diferente, verdadeira \n",
        "Negacao  |   not  | Valor é a negacao da expressao dada\n",
        "\n",
        "\n",
        "```"
      ]
    },
    {
      "cell_type": "markdown",
      "metadata": {
        "id": "7741fsQ50f0C"
      },
      "source": [
        "**Exemplo 3: Utilizando operadores logicos.**"
      ]
    },
    {
      "cell_type": "code",
      "metadata": {
        "colab": {
          "base_uri": "https://localhost:8080/"
        },
        "id": "HBjleI9QcGoz",
        "outputId": "8eaefb6c-2278-4e43-e50d-5a94b067c749"
      },
      "source": [
        "#Testando operadores logicos\n",
        "a = True\n",
        "b = False\n",
        "\n",
        "print('a e b é', a and b)\n",
        "\n",
        "print('a ou b é', a or b)\n",
        "\n",
        "print('nao a é', not a)"
      ],
      "execution_count": null,
      "outputs": [
        {
          "output_type": "stream",
          "text": [
            "a e b é False\n",
            "a ou b é True\n",
            "nao a é False\n"
          ],
          "name": "stdout"
        }
      ]
    },
    {
      "cell_type": "markdown",
      "metadata": {
        "id": "bDxwcuM-yart"
      },
      "source": [
        "________________________________________________________________________________\n",
        "**EXERCÍCIOS**\n",
        "________________________________________________________________________________"
      ]
    },
    {
      "cell_type": "markdown",
      "metadata": {
        "id": "SO0c_OMB6NYG"
      },
      "source": [
        "1. Imprima a famosa expressao: \"Hello World\" (Olá Mundo)."
      ]
    },
    {
      "cell_type": "code",
      "metadata": {
        "id": "xWt2ZqVhOCTy"
      },
      "source": [
        ""
      ],
      "execution_count": null,
      "outputs": []
    },
    {
      "cell_type": "code",
      "metadata": {
        "id": "OGp9spShOCWK"
      },
      "source": [
        ""
      ],
      "execution_count": null,
      "outputs": []
    },
    {
      "cell_type": "code",
      "metadata": {
        "id": "M6zauSVXOCYy"
      },
      "source": [
        ""
      ],
      "execution_count": null,
      "outputs": []
    },
    {
      "cell_type": "code",
      "metadata": {
        "id": "gsebzZXpOCbc"
      },
      "source": [
        ""
      ],
      "execution_count": null,
      "outputs": []
    },
    {
      "cell_type": "code",
      "metadata": {
        "id": "4Yu-gtR2OCd2"
      },
      "source": [
        ""
      ],
      "execution_count": null,
      "outputs": []
    },
    {
      "cell_type": "code",
      "metadata": {
        "id": "jqO3chsrOCgh"
      },
      "source": [
        ""
      ],
      "execution_count": null,
      "outputs": []
    },
    {
      "cell_type": "code",
      "metadata": {
        "id": "VdsOSaeWOCj9"
      },
      "source": [
        ""
      ],
      "execution_count": null,
      "outputs": []
    },
    {
      "cell_type": "code",
      "metadata": {
        "id": "nr6TcDUzOCm0"
      },
      "source": [
        ""
      ],
      "execution_count": null,
      "outputs": []
    },
    {
      "cell_type": "code",
      "metadata": {
        "colab": {
          "base_uri": "https://localhost:8080/"
        },
        "id": "flVe1al46bEX",
        "outputId": "f8b0fbf0-4b58-4db2-93eb-eefa45b3d048"
      },
      "source": [
        "print(\"Hello World\")"
      ],
      "execution_count": null,
      "outputs": [
        {
          "output_type": "stream",
          "text": [
            "Hello World\n"
          ],
          "name": "stdout"
        }
      ]
    },
    {
      "cell_type": "markdown",
      "metadata": {
        "id": "p93l57hN7LhK"
      },
      "source": [
        "2. Calcule a área de um campo de futebol com 110 metros de comprimento e 75 metros de largura Resolva o exercício em Python e faça o print do resultado."
      ]
    },
    {
      "cell_type": "code",
      "metadata": {
        "colab": {
          "base_uri": "https://localhost:8080/"
        },
        "id": "rgzA2f0mOkxk",
        "outputId": "4655d7f1-9e63-4fe2-b678-ddd974af63d7"
      },
      "source": [
        "largura = 75\n",
        "comprimento = 110\n",
        "area = comprimento * largura\n",
        "print(area)"
      ],
      "execution_count": null,
      "outputs": [
        {
          "output_type": "stream",
          "text": [
            "8250\n"
          ],
          "name": "stdout"
        }
      ]
    },
    {
      "cell_type": "code",
      "metadata": {
        "id": "JFnyvPMBOk0X"
      },
      "source": [
        ""
      ],
      "execution_count": null,
      "outputs": []
    },
    {
      "cell_type": "code",
      "metadata": {
        "id": "WntAOl7xOk2-"
      },
      "source": [
        ""
      ],
      "execution_count": null,
      "outputs": []
    },
    {
      "cell_type": "code",
      "metadata": {
        "id": "8W8bQd8rOk58"
      },
      "source": [
        ""
      ],
      "execution_count": null,
      "outputs": []
    },
    {
      "cell_type": "code",
      "metadata": {
        "id": "p6lh2Tu_Ok8w"
      },
      "source": [
        ""
      ],
      "execution_count": null,
      "outputs": []
    },
    {
      "cell_type": "code",
      "metadata": {
        "id": "o_g7KxLUOk_n"
      },
      "source": [
        ""
      ],
      "execution_count": null,
      "outputs": []
    },
    {
      "cell_type": "code",
      "metadata": {
        "id": "199ZFEzkOlIe"
      },
      "source": [
        ""
      ],
      "execution_count": null,
      "outputs": []
    },
    {
      "cell_type": "code",
      "metadata": {
        "id": "Hc5cT4-UOlPN"
      },
      "source": [
        ""
      ],
      "execution_count": null,
      "outputs": []
    },
    {
      "cell_type": "code",
      "metadata": {
        "colab": {
          "base_uri": "https://localhost:8080/"
        },
        "id": "32seCRVV7GWz",
        "outputId": "058759ea-38c2-478b-b4ed-19439e76b71f"
      },
      "source": [
        "#Fórmula da área do retângulo = largura x comprimento\n",
        "comprimento = 110\n",
        "largura = 75\n",
        "\n",
        "area_campo = comprimento * largura\n",
        "print(f'A área do campo de futebol é: {area_campo} m2')"
      ],
      "execution_count": null,
      "outputs": [
        {
          "output_type": "stream",
          "text": [
            "A área do campo de futebol é: 8250 m2\n"
          ],
          "name": "stdout"
        }
      ]
    },
    {
      "cell_type": "markdown",
      "metadata": {
        "id": "meKppBmYyl3f"
      },
      "source": [
        "3. Calcule a área de um circulo com raio = 4 cm. Resolva o exercício em Python e\n",
        "faça o print do resultado.\n",
        "\n"
      ]
    },
    {
      "cell_type": "code",
      "metadata": {
        "colab": {
          "base_uri": "https://localhost:8080/"
        },
        "id": "92oKV1Lmzj_o",
        "outputId": "2b264af3-b5b2-45a5-9ced-d4768c568848"
      },
      "source": [
        "#Fórmula da área // area = pi x r**2\n",
        "r = 4\n",
        "pi = 3.14\n",
        "\n",
        "area = pi * (r**2)\n",
        "print(f'A area é: {area} cm2')"
      ],
      "execution_count": null,
      "outputs": [
        {
          "output_type": "stream",
          "text": [
            "A area é: 50.24 cm2\n"
          ],
          "name": "stdout"
        }
      ]
    },
    {
      "cell_type": "markdown",
      "metadata": {
        "id": "CLWAN1dC1jqv"
      },
      "source": [
        "4. Calcule o volume de um cilindro com raio = 7 cm e altura de 10 cm. Resolva o exercício em Python e faça o print do resultado."
      ]
    },
    {
      "cell_type": "code",
      "metadata": {
        "colab": {
          "base_uri": "https://localhost:8080/"
        },
        "id": "MLKiNM9y2EDA",
        "outputId": "b51f7027-cf2a-461a-953b-90e1aed22438"
      },
      "source": [
        "#Fórmula da área // area = pi x r**2\n",
        "#Fórmula do cilindro // volume_cilindro = area x altura\n",
        "r = 7\n",
        "h = 10\n",
        "pi = 3.14\n",
        "\n",
        "area = pi * (r**2)\n",
        "volume_cilindro = area * h\n",
        "print(f'O volume do cilindro é: {volume_cilindro} cm3')"
      ],
      "execution_count": null,
      "outputs": [
        {
          "output_type": "stream",
          "text": [
            "O volume do cilindro é: 1538.6000000000001 cm3\n"
          ],
          "name": "stdout"
        }
      ]
    },
    {
      "cell_type": "markdown",
      "metadata": {
        "id": "XZGYH8xaHFJ7"
      },
      "source": [
        "5. Calcule o peso em Newtons de um Airbus A380, o qual possui 560,000 kg. Resolva o exercício em Python e faça o print do resultado.\n"
      ]
    },
    {
      "cell_type": "code",
      "metadata": {
        "colab": {
          "base_uri": "https://localhost:8080/"
        },
        "id": "0Mg6AVUZHnBE",
        "outputId": "0f551503-aa83-4e66-db2e-6881cefc1bad"
      },
      "source": [
        "#Conversao kg para Newtons = * 9.81\n",
        "A380_kg = 560000\n",
        "A380_Newtons = A380_kg * 9.81\n",
        "\n",
        "print(f\"O A380 possui: {A380_Newtons} Newtons\")"
      ],
      "execution_count": null,
      "outputs": [
        {
          "output_type": "stream",
          "text": [
            "O A380 possui: 5493600.0 Newtons\n"
          ],
          "name": "stdout"
        }
      ]
    }
  ]
}