{
  "nbformat": 4,
  "nbformat_minor": 0,
  "metadata": {
    "colab": {
      "name": "Aula_01.ipynb",
      "provenance": [],
      "collapsed_sections": []
    },
    "kernelspec": {
      "name": "python3",
      "display_name": "Python 3"
    },
    "language_info": {
      "name": "python"
    }
  },
  "cells": [
    {
      "cell_type": "markdown",
      "metadata": {
        "id": "2ha8VSHqNsmZ"
      },
      "source": [
        "________________________________________________________________________________\n",
        "**Aula 01**\n",
        "________________________________________________________________________________"
      ]
    },
    {
      "cell_type": "markdown",
      "metadata": {
        "id": "e0k8Gug8OsTl"
      },
      "source": [
        "***1. INTRODUCAO AO AMBIENTE PYTHON***"
      ]
    },
    {
      "cell_type": "markdown",
      "metadata": {
        "id": "rjPyI6X9O2s3"
      },
      "source": [
        "*1.1 Operdores Aritméticos*\n",
        "\n",
        "Operadores são símbolos especiais que representam diferentes operações computacionais. Um operador aritmético é uma função matemática que utiliza dois operandos e realiza um cálculo sobre eles. Eles são usados em aritmética comum e a maioria das linguagens de computador contém um conjunto de operadores que podem ser aplicados dentro de equações para executar vários tipos de cálculos. Os principais operadores aritméticos utilizados em linguagem Python são apresentados a seguir na Tabela 1.\n",
        "\n"
      ]
    },
    {
      "cell_type": "markdown",
      "metadata": {
        "id": "prvIIe0HQTjm"
      },
      "source": [
        "Tabela 1:\n",
        "```markdown\n",
        "Operacao            | Operador | Descricao \n",
        "------------------- |--------- | ----------------------------------------------\n",
        "Adicao              |     +    | Soma os valores de ambos os lados do operador\n",
        "Subtracao           |     -    | Subtrai o operador à direita do operando\n",
        "Multiplicacao       |     *    | Multiplica os valores de ambos os lados\n",
        "Divisao             |     /    | Divide o operador da esquerda pelo da direita\n",
        "Modulo de divisao.  |     %    | Divisao retornando o ˜resto˜\n",
        "Expoente            |     **   | Executa cálculo exponencial\n",
        "Parte Interna       |     //   | Retorna o quociente inteiro da operacao\n",
        "\n",
        "```"
      ]
    },
    {
      "cell_type": "markdown",
      "metadata": {
        "id": "55RcKMJaTcS-"
      },
      "source": [
        "**Exemplo 1: Utilizando operadores aritiméticos.**\n",
        "\n",
        "O código abaixo exemplifica a aplicação dos principais operadores aritméticos *italicized text*"
      ]
    },
    {
      "cell_type": "code",
      "metadata": {
        "colab": {
          "base_uri": "https://localhost:8080/"
        },
        "id": "TQKnSerRUOFn",
        "outputId": "29064204-02aa-40aa-b402-5a24bce8ccc6"
      },
      "source": [
        "#Atribuindo valores para a e b\n",
        "a = 21\n",
        "b = 10\n",
        "\n",
        "#Calculando a soma\n",
        "x1 = a + b\n",
        "print(\"A soma entre\", a, \"e\", b, \"é\", x1)"
      ],
      "execution_count": 15,
      "outputs": [
        {
          "output_type": "stream",
          "text": [
            "A soma entre 21 e 10 é 31\n"
          ],
          "name": "stdout"
        }
      ]
    },
    {
      "cell_type": "code",
      "metadata": {
        "colab": {
          "base_uri": "https://localhost:8080/"
        },
        "id": "MIBWsVUP2yHS",
        "outputId": "b9edaff0-5374-419f-fd9c-800fcc598dda"
      },
      "source": [
        "#Calculando a subtracao\n",
        "x2 = a - b\n",
        "print(\"A subtração entre\", a, \"e\", b, \"é\", x2)\n",
        "\n",
        "#Calculando a multiplicacao\n",
        "x3 = a * b\n",
        "print(\"O produto entre\", a, \"e\", b, \"é\", x3)\n",
        "\n",
        "#Calculando a divisao\n",
        "x4 = a / b\n",
        "print(\"O quociente entre\", a, \"e\", b, \"é\", x4)\n",
        "\n",
        "#Calculando o resto da divisao\n",
        "x5 = a % b\n",
        "print(\"O resto da divisão entre\", a, \"e\", b, \"é\", x5)"
      ],
      "execution_count": 18,
      "outputs": [
        {
          "output_type": "stream",
          "text": [
            "A subtração entre 21 e 10 é 11\n",
            "O produto entre 21 e 10 é 210\n",
            "O quociente entre 21 e 10 é 2.1\n",
            "O resto da divisão entre 21 e 10 é 1\n"
          ],
          "name": "stdout"
        }
      ]
    },
    {
      "cell_type": "code",
      "metadata": {
        "colab": {
          "base_uri": "https://localhost:8080/"
        },
        "id": "6DIpHXw725ix",
        "outputId": "7b7f6e76-4d85-4712-b616-99000a03b745"
      },
      "source": [
        "#Atribuindo mais valores para c e d\n",
        "c = 2\n",
        "d = 3\n",
        "#Calculando a exponenciacao\n",
        "x6 = c**d \n",
        "print(a, \"elevado a\", b, \"é\", x6)"
      ],
      "execution_count": 21,
      "outputs": [
        {
          "output_type": "stream",
          "text": [
            "21 elevado a 10 é 8\n"
          ],
          "name": "stdout"
        }
      ]
    },
    {
      "cell_type": "markdown",
      "metadata": {
        "id": "CWSO_I58YC6Y"
      },
      "source": [
        "*1.2 Operdores de Comparacao*\n",
        "\n",
        "Um operador de comparação é um símbolo matemático utilizado para comparar dois valores. Todos os operadores de comparação são operadores binários que retornam valores do tipo boolean (verdadeiro ou falso), de acordo com a Tabela 2."
      ]
    },
    {
      "cell_type": "markdown",
      "metadata": {
        "id": "H-WCgtJOYRcQ"
      },
      "source": [
        "Tabela 2:\n",
        "```markdown\n",
        "Operacao         |Operador | Descricao \n",
        "-----------------|---------| --------------------------------------------------\n",
        "Igual a          |    ==   | Operadores com valores iguais, operacao verdadeira\n",
        "Diferente de     |    !=   | Valores diferentes, a condicao vai ser verdadeira\n",
        "Maior que        |    >    | Se o operador for maior, condicao verdadeira\n",
        "Menor que        |    <    | Se o operador for menor, operacao verdadeira\n",
        "Maior ou igual a |    >=   | Se o operador for maior ou igual, verdadeira\n",
        "Menor ou igual a |    <=   | Se o operador for menor ou igual, verdadeira\n",
        "\n",
        "```"
      ]
    },
    {
      "cell_type": "code",
      "metadata": {
        "colab": {
          "base_uri": "https://localhost:8080/"
        },
        "id": "Zjrl9kEha3gK",
        "outputId": "f6e9d2f6-c197-4370-bacb-49c1ecdb8cb5"
      },
      "source": [
        "#Adicionando comentario no código\n",
        "a = 20\n",
        "b = 16\n",
        "\n",
        "print('a > b  is', a > b)\n",
        "\n",
        "print('a < b  is', a < b)\n",
        "\n",
        "print('a == b is', a == b)\n",
        "\n",
        "print('a != b is', a != b)\n",
        "\n",
        "print('a >= b is', a >= b)\n",
        "\n",
        "print('a <= b is', a <= b)"
      ],
      "execution_count": null,
      "outputs": [
        {
          "output_type": "stream",
          "text": [
            "a > b  is True\n",
            "a < b  is False\n",
            "a == b is False\n",
            "a != b is True\n",
            "a >= b is True\n",
            "a <= b is False\n"
          ],
          "name": "stdout"
        }
      ]
    },
    {
      "cell_type": "markdown",
      "metadata": {
        "id": "M63ga97Lb0QS"
      },
      "source": [
        "*1.3 Operdores Logicos*\n",
        "\n",
        "Os operadores lógicos realizam a comparação entre expressões, com exceção do operador de negação (!) que compara apenas um valor. De acordo com a Tabela 3."
      ]
    },
    {
      "cell_type": "markdown",
      "metadata": {
        "id": "udKP93iTcJk2"
      },
      "source": [
        "Tabela 3:\n",
        "```markdown\n",
        "Operacao |Operador| Descricao \n",
        "---------|--------| ------------------------------------------------------\n",
        "E        |   and  | Se ambos forem verdadeiros, a condicao será verdadeira\n",
        "Ou       |   or   | Se algum dos dois operadores for diferente, verdadeira \n",
        "Negacao  |   not  | Valor é a negacao da expressao dada\n",
        "\n",
        "\n",
        "```"
      ]
    },
    {
      "cell_type": "code",
      "metadata": {
        "colab": {
          "base_uri": "https://localhost:8080/"
        },
        "id": "HBjleI9QcGoz",
        "outputId": "8eaefb6c-2278-4e43-e50d-5a94b067c749"
      },
      "source": [
        "#Testando operadores logicos\n",
        "a = True\n",
        "b = False\n",
        "\n",
        "print('a e b é', a and b)\n",
        "\n",
        "print('a ou b é', a or b)\n",
        "\n",
        "print('nao a é', not a)"
      ],
      "execution_count": 1,
      "outputs": [
        {
          "output_type": "stream",
          "text": [
            "a e b é False\n",
            "a ou b é True\n",
            "nao a é False\n"
          ],
          "name": "stdout"
        }
      ]
    },
    {
      "cell_type": "markdown",
      "metadata": {
        "id": "bDxwcuM-yart"
      },
      "source": [
        "________________________________________________________________________________\n",
        "EXERCÍCIOS\n",
        "________________________________________________________________________________"
      ]
    },
    {
      "cell_type": "markdown",
      "metadata": {
        "id": "meKppBmYyl3f"
      },
      "source": [
        "1. Calcule a área de um circulo com raio = 4 cm. Resolva o exercício em Python e\n",
        "faça o print do resultado.\n",
        "\n"
      ]
    },
    {
      "cell_type": "code",
      "metadata": {
        "colab": {
          "base_uri": "https://localhost:8080/"
        },
        "id": "92oKV1Lmzj_o",
        "outputId": "1705da58-e90c-4135-edcf-2f7112daa0f6"
      },
      "source": [
        "#Fórmula da área // area = pi x r**2\n",
        "r = 4\n",
        "pi = 3.14\n",
        "\n",
        "area = pi * (r**2)\n",
        "print(f'A area é: {area} cm2')"
      ],
      "execution_count": 12,
      "outputs": [
        {
          "output_type": "stream",
          "text": [
            "A area é: 50.24 cm2\n"
          ],
          "name": "stdout"
        }
      ]
    },
    {
      "cell_type": "markdown",
      "metadata": {
        "id": "CLWAN1dC1jqv"
      },
      "source": [
        "2. Calcule o volume de um cilindro com raio = 7 cm e altura de 10 cm. Resolva o exercício em Python e faça o print do resultado."
      ]
    },
    {
      "cell_type": "code",
      "metadata": {
        "colab": {
          "base_uri": "https://localhost:8080/"
        },
        "id": "MLKiNM9y2EDA",
        "outputId": "d683187c-357b-47f0-fbb2-87eb55dbc0ef"
      },
      "source": [
        "#Fórmula da área // area = pi x r**2\n",
        "#Fórmula do cilindro // volume_cilindro = area x altura\n",
        "r = 7\n",
        "h = 10\n",
        "pi = 3.14\n",
        "\n",
        "area = pi * (r**2)\n",
        "volume_cilindro = area * h\n",
        "print(f'/O volume do cilindro é: {volume_cilindro} cm3')"
      ],
      "execution_count": 14,
      "outputs": [
        {
          "output_type": "stream",
          "text": [
            "/O volume do cilindro é: 1538.6000000000001 cm3\n"
          ],
          "name": "stdout"
        }
      ]
    }
  ]
}