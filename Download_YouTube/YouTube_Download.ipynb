{
  "nbformat": 4,
  "nbformat_minor": 0,
  "metadata": {
    "colab": {
      "name": "YouTube_Download.ipynb",
      "provenance": [],
      "collapsed_sections": []
    },
    "kernelspec": {
      "name": "python3",
      "display_name": "Python 3"
    },
    "language_info": {
      "name": "python"
    }
  },
  "cells": [
    {
      "cell_type": "markdown",
      "metadata": {
        "id": "zook2Y_SFOOf"
      },
      "source": [
        "Links Úteis:\n",
        "\n",
        "https://towardsdatascience.com/the-easiest-way-to-download-youtube-videos-using-python-2640958318ab\n",
        "\n",
        "https://colab.research.google.com/github/soiqualang/colab/blob/master/pytube.ipynb"
      ]
    },
    {
      "cell_type": "code",
      "metadata": {
        "colab": {
          "base_uri": "https://localhost:8080/"
        },
        "id": "afxm2cPuFVPb",
        "outputId": "098c0187-8664-4150-e39c-94a5e24906b3"
      },
      "source": [
        "#Instalando a biblioteca\n",
        "!pip install pytube"
      ],
      "execution_count": null,
      "outputs": [
        {
          "output_type": "stream",
          "text": [
            "Requirement already satisfied: pytube in /usr/local/lib/python3.7/dist-packages (11.0.0)\n"
          ],
          "name": "stdout"
        }
      ]
    },
    {
      "cell_type": "code",
      "metadata": {
        "id": "_8g8etoiApcB"
      },
      "source": [
        "#Importando a biblioteca\n",
        "from pytube import YouTube"
      ],
      "execution_count": null,
      "outputs": []
    },
    {
      "cell_type": "code",
      "metadata": {
        "id": "MLt_4CbDFCb9"
      },
      "source": [
        "#Criar um objeto com URL \n",
        "video = YouTube('https://www.youtube.com/watch?v=_V_b58KqxHw')"
      ],
      "execution_count": null,
      "outputs": []
    },
    {
      "cell_type": "code",
      "metadata": {
        "id": "DHDVTR_gFu_P"
      },
      "source": [
        "#Configurar a melhor qualidade do video\n",
        "stream = video.streams.get_highest_resolution()"
      ],
      "execution_count": null,
      "outputs": []
    },
    {
      "cell_type": "code",
      "metadata": {
        "colab": {
          "base_uri": "https://localhost:8080/",
          "height": 37
        },
        "id": "7gGUNxsxF7hM",
        "outputId": "eaf18fad-055d-4852-867c-260fe4b0dc59"
      },
      "source": [
        "#Download do video\n",
        "stream.download()"
      ],
      "execution_count": null,
      "outputs": [
        {
          "output_type": "execute_result",
          "data": {
            "application/vnd.google.colaboratory.intrinsic+json": {
              "type": "string"
            },
            "text/plain": [
              "'/content/Como uma Inteligência Artificial Controla a sua Vida.mp4'"
            ]
          },
          "metadata": {
            "tags": []
          },
          "execution_count": 8
        }
      ]
    }
  ]
}