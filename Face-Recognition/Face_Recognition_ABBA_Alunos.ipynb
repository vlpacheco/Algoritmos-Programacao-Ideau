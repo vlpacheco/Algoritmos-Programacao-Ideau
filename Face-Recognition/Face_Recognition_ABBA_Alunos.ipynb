{
  "nbformat": 4,
  "nbformat_minor": 0,
  "metadata": {
    "colab": {
      "name": "Face-Recognition-ABBA-Alunos.ipynb",
      "provenance": [],
      "collapsed_sections": []
    },
    "kernelspec": {
      "name": "python3",
      "display_name": "Python 3"
    },
    "language_info": {
      "name": "python"
    }
  },
  "cells": [
    {
      "cell_type": "markdown",
      "metadata": {
        "id": "5E88WiIsGPI6"
      },
      "source": [
        "________________________________________________________________________________\n",
        "Visao Computacional\n",
        "________________________________________________________________________________"
      ]
    },
    {
      "cell_type": "markdown",
      "metadata": {
        "id": "Lrf_UepAGVZe"
      },
      "source": [
        "Link: https://www.youtube.com/watch?v=OcycT1Jwsns\n",
        "\n",
        "TedTalk: https://www.youtube.com/watch?v=Cgxsv1riJhI"
      ]
    },
    {
      "cell_type": "markdown",
      "metadata": {
        "id": "fzdKUvdDoeIU"
      },
      "source": [
        "_________________________________________________________________\n",
        "Reconhecimento de rostos - OpenCv\n",
        "_________________________________________________________________"
      ]
    },
    {
      "cell_type": "markdown",
      "metadata": {
        "id": "oAdchGZZ3Jhm"
      },
      "source": [
        "Documentacao: https://docs.opencv.org/3.4/db/d28/tutorial_cascade_classifier.html"
      ]
    },
    {
      "cell_type": "markdown",
      "metadata": {
        "id": "usRP_JUmoqDB"
      },
      "source": [
        "O OpenCV usa algoritmos de aprendizado de máquina para pesquisar rostos em uma imagem. Como os rostos são tão complicados, não há um teste simples que dirá se encontrou um rosto ou não. Em vez disso, existem milhares de pequenos padrões e recursos que devem ser combinados. Os algoritmos dividem a tarefa de identificar o rosto em milhares de tarefas menores e menores, cada uma fácil de resolver. Essas tarefas também são chamadas de classificadores."
      ]
    },
    {
      "cell_type": "markdown",
      "metadata": {
        "id": "HT2UbiYepDr3"
      },
      "source": [
        "Cascades na prática\n",
        "\n",
        "Embora a teoria possa parecer complicada, na prática é muito fácil. As próprias cascatas são aglomerados de arquivos XML que contêm dados OpenCV usados para detectar objetos. Você inicializa seu código com a cascata desejada e, em seguida, ele faz o trabalho para você."
      ]
    },
    {
      "cell_type": "markdown",
      "metadata": {
        "id": "AlSmPAlrpNUE"
      },
      "source": [
        "\n",
        "#1. Instalando o OpenCV e sys\n"
      ]
    },
    {
      "cell_type": "markdown",
      "metadata": {
        "id": "nincuuxwrSxJ"
      },
      "source": [
        "#2. Criando o Cascade e carregando no ambiente Colab (É um conjunto de arquivos \".xml\" que contém a biblioteca cv2 para reconhecer objetos)"
      ]
    },
    {
      "cell_type": "markdown",
      "metadata": {
        "id": "zfl5zLGprygT"
      },
      "source": [
        "#3. Carregando a Imagem para reconhecimento, no sistema e no script"
      ]
    },
    {
      "cell_type": "markdown",
      "metadata": {
        "id": "o37Qpe4X2Vhh"
      },
      "source": [
        "#4. Convertendo a imagem para Grey Scale, é utilizada por facilitar na identificacao"
      ]
    },
    {
      "cell_type": "markdown",
      "metadata": {
        "id": "axqlRcHr7Ntg"
      },
      "source": [
        "#5. Criando o Caminho com a funcao detecMultiScale"
      ]
    },
    {
      "cell_type": "markdown",
      "metadata": {
        "id": "KXvrTx3R7gBc"
      },
      "source": [
        "#6. Desenhando os retangulos nas \"faces\", com o uso do loop for"
      ]
    },
    {
      "cell_type": "markdown",
      "metadata": {
        "id": "qutyOtiu7vIB"
      },
      "source": [
        "#7. Importando a versao do cv2 do Google Colab"
      ]
    },
    {
      "cell_type": "markdown",
      "metadata": {
        "id": "QFxOGo5X792F"
      },
      "source": [
        "#8. Retornando a imagem"
      ]
    }
  ]
}